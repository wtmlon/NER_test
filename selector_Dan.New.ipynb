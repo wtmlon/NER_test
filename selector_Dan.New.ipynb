{
 "cells": [
  {
   "cell_type": "code",
   "execution_count": 10,
   "metadata": {},
   "outputs": [
    {
     "ename": "ModuleNotFoundError",
     "evalue": "No module named 'nlp'",
     "output_type": "error",
     "traceback": [
      "\u001b[0;31m---------------------------------------------------------------------------\u001b[0m",
      "\u001b[0;31mModuleNotFoundError\u001b[0m                       Traceback (most recent call last)",
      "\u001b[0;32m<ipython-input-10-2a7a8c64919c>\u001b[0m in \u001b[0;36m<module>\u001b[0;34m\u001b[0m\n\u001b[0;32m----> 1\u001b[0;31m \u001b[0;32mimport\u001b[0m \u001b[0mnlp\u001b[0m\u001b[0;34m\u001b[0m\u001b[0;34m\u001b[0m\u001b[0m\n\u001b[0m\u001b[1;32m      2\u001b[0m \u001b[0;32mimport\u001b[0m \u001b[0mpandas\u001b[0m \u001b[0;32mas\u001b[0m \u001b[0mpd\u001b[0m\u001b[0;34m\u001b[0m\u001b[0;34m\u001b[0m\u001b[0m\n\u001b[1;32m      3\u001b[0m \u001b[0;32mimport\u001b[0m \u001b[0mwarnings\u001b[0m\u001b[0;34m\u001b[0m\u001b[0;34m\u001b[0m\u001b[0m\n\u001b[1;32m      4\u001b[0m \u001b[0;31m#from fastai.basics import *\u001b[0m\u001b[0;34m\u001b[0m\u001b[0;34m\u001b[0m\u001b[0;34m\u001b[0m\u001b[0m\n\u001b[1;32m      5\u001b[0m \u001b[0;31m#from fastai.text.all import *\u001b[0m\u001b[0;34m\u001b[0m\u001b[0;34m\u001b[0m\u001b[0;34m\u001b[0m\u001b[0m\n",
      "\u001b[0;31mModuleNotFoundError\u001b[0m: No module named 'nlp'"
     ]
    }
   ],
   "source": [
    "import nlp\n",
    "import pandas as pd\n",
    "import warnings\n",
    "#from fastai.basics import *\n",
    "#from fastai.text.all import *\n",
    "#from fastai.callback.all import *\n",
    "\n",
    "#from transformers import AutoModelForSequenceClassification, AutoTokenizer, AutoConfig\n",
    "#from splitters import *\n",
    "\n",
    "#import transformers\n",
    "#from transformers import *\n",
    "\n",
    "#from blurr.data.all import *\n",
    "#from blurr.modeling.all import *\n",
    "\n",
    "import json\n",
    "\n",
    "\n",
    "import os\n",
    "from zipfile import ZipFile\n",
    "\n",
    "warnings.filterwarnings('ignore')"
   ]
  },
  {
   "cell_type": "code",
   "execution_count": 2,
   "metadata": {},
   "outputs": [
    {
     "name": "stdout",
     "output_type": "stream",
     "text": [
      "Collecting nlp\n",
      "  Using cached https://files.pythonhosted.org/packages/09/e3/bcdc59f3434b224040c1047769c47b82705feca2b89ebbc28311e3764782/nlp-0.4.0-py3-none-any.whl\n",
      "Collecting xxhash (from nlp)\n",
      "  Using cached https://files.pythonhosted.org/packages/cd/fc/858b20fed2d6264ef1ce8d9c1d0a82dd349db017c6e4e7d46162c4e97eff/xxhash-2.0.2-cp36-cp36m-manylinux1_x86_64.whl\n",
      "Collecting dill (from nlp)\n",
      "  Using cached https://files.pythonhosted.org/packages/52/d6/79f40d230895fa1ce3b6af0d22e0ac79c65175dc069c194b79cc8e05a033/dill-0.3.3-py2.py3-none-any.whl\n",
      "Requirement already satisfied: numpy in /usr/local/lib64/python3.6/site-packages (from nlp)\n",
      "Collecting filelock (from nlp)\n",
      "  Using cached https://files.pythonhosted.org/packages/93/83/71a2ee6158bb9f39a90c0dea1637f81d5eef866e188e1971a1b1ab01a35a/filelock-3.0.12-py3-none-any.whl\n",
      "Collecting pandas (from nlp)\n",
      "  Using cached https://files.pythonhosted.org/packages/c3/e2/00cacecafbab071c787019f00ad84ca3185952f6bb9bca9550ed83870d4d/pandas-1.1.5-cp36-cp36m-manylinux1_x86_64.whl\n",
      "Collecting requests>=2.19.0 (from nlp)\n",
      "  Using cached https://files.pythonhosted.org/packages/29/c1/24814557f1d22c56d50280771a17307e6bf87b70727d975fd6b2ce6b014a/requests-2.25.1-py2.py3-none-any.whl\n",
      "Collecting pyarrow>=0.16.0 (from nlp)\n",
      "  Using cached https://files.pythonhosted.org/packages/a3/8e/43fc8348b9f4845ede3b0c02bc2a6c2f6c59b8978eec65b02daaded45a21/pyarrow-4.0.0.tar.gz\n",
      "Collecting tqdm>=4.27 (from nlp)\n",
      "  Using cached https://files.pythonhosted.org/packages/42/d7/f357d98e9b50346bcb6095fe3ad205d8db3174eb5edb03edfe7c4099576d/tqdm-4.61.0-py2.py3-none-any.whl\n",
      "Requirement already satisfied: dataclasses; python_version < \"3.7\" in /usr/local/lib/python3.6/site-packages (from nlp)\n",
      "Requirement already satisfied: python-dateutil>=2.7.3 in /usr/local/lib/python3.6/site-packages (from pandas->nlp)\n",
      "Collecting pytz>=2017.2 (from pandas->nlp)\n",
      "  Using cached https://files.pythonhosted.org/packages/70/94/784178ca5dd892a98f113cdd923372024dc04b8d40abe77ca76b5fb90ca6/pytz-2021.1-py2.py3-none-any.whl\n",
      "Collecting certifi>=2017.4.17 (from requests>=2.19.0->nlp)\n",
      "  Using cached https://files.pythonhosted.org/packages/5e/a0/5f06e1e1d463903cf0c0eebeb751791119ed7a4b3737fdc9a77f1cdfb51f/certifi-2020.12.5-py2.py3-none-any.whl\n",
      "Collecting chardet<5,>=3.0.2 (from requests>=2.19.0->nlp)\n",
      "  Using cached https://files.pythonhosted.org/packages/19/c7/fa589626997dd07bd87d9269342ccb74b1720384a4d739a1872bd84fbe68/chardet-4.0.0-py2.py3-none-any.whl\n",
      "Collecting idna<3,>=2.5 (from requests>=2.19.0->nlp)\n",
      "  Using cached https://files.pythonhosted.org/packages/a2/38/928ddce2273eaa564f6f50de919327bf3a00f091b5baba8dfa9460f3a8a8/idna-2.10-py2.py3-none-any.whl\n",
      "Collecting urllib3<1.27,>=1.21.1 (from requests>=2.19.0->nlp)\n",
      "  Using cached https://files.pythonhosted.org/packages/0c/cd/1e2ec680ec7b09846dc6e605f5a7709dfb9d7128e51a026e7154e18a234e/urllib3-1.26.5-py2.py3-none-any.whl\n",
      "Requirement already satisfied: six>=1.5 in /usr/local/lib/python3.6/site-packages (from python-dateutil>=2.7.3->pandas->nlp)\n",
      "Installing collected packages: xxhash, dill, filelock, pytz, pandas, certifi, chardet, idna, urllib3, requests, pyarrow, tqdm, nlp\n",
      "\u001b[31mException:\n",
      "Traceback (most recent call last):\n",
      "  File \"/usr/lib/python3.6/site-packages/pip/basecommand.py\", line 215, in main\n",
      "    status = self.run(options, args)\n",
      "  File \"/usr/lib/python3.6/site-packages/pip/commands/install.py\", line 365, in run\n",
      "    strip_file_prefix=options.strip_file_prefix,\n",
      "  File \"/usr/lib/python3.6/site-packages/pip/req/req_set.py\", line 789, in install\n",
      "    **kwargs\n",
      "  File \"/usr/lib/python3.6/site-packages/pip/req/req_install.py\", line 854, in install\n",
      "    strip_file_prefix=strip_file_prefix\n",
      "  File \"/usr/lib/python3.6/site-packages/pip/req/req_install.py\", line 1069, in move_wheel_files\n",
      "    strip_file_prefix=strip_file_prefix,\n",
      "  File \"/usr/lib/python3.6/site-packages/pip/wheel.py\", line 345, in move_wheel_files\n",
      "    clobber(source, lib_dir, True)\n",
      "  File \"/usr/lib/python3.6/site-packages/pip/wheel.py\", line 316, in clobber\n",
      "    ensure_dir(destdir)\n",
      "  File \"/usr/lib/python3.6/site-packages/pip/utils/__init__.py\", line 83, in ensure_dir\n",
      "    os.makedirs(path)\n",
      "  File \"/usr/lib64/python3.6/os.py\", line 220, in makedirs\n",
      "    mkdir(name, mode)\n",
      "PermissionError: [Errno 13] 权限不够: '/usr/local/lib64/python3.6/site-packages/xxhash-2.0.2.dist-info'\u001b[0m\n"
     ]
    }
   ],
   "source": [
    "!pip3 install nlp"
   ]
  },
  {
   "cell_type": "code",
   "execution_count": 4,
   "metadata": {},
   "outputs": [
    {
     "ename": "NameError",
     "evalue": "name 'pd' is not defined",
     "output_type": "error",
     "traceback": [
      "\u001b[0;31m---------------------------------------------------------------------------\u001b[0m",
      "\u001b[0;31mNameError\u001b[0m                                 Traceback (most recent call last)",
      "\u001b[0;32m<ipython-input-4-b823f16d7d4b>\u001b[0m in \u001b[0;36m<module>\u001b[0;34m\u001b[0m\n\u001b[0;32m----> 1\u001b[0;31m \u001b[0mpatrick_df\u001b[0m \u001b[0;34m=\u001b[0m \u001b[0mpd\u001b[0m\u001b[0;34m.\u001b[0m\u001b[0mread_csv\u001b[0m\u001b[0;34m(\u001b[0m\u001b[0;34m'NLP - Completed intros.csv'\u001b[0m\u001b[0;34m)\u001b[0m\u001b[0;34m\u001b[0m\u001b[0;34m\u001b[0m\u001b[0m\n\u001b[0m",
      "\u001b[0;31mNameError\u001b[0m: name 'pd' is not defined"
     ]
    }
   ],
   "source": [
    "patrick_df = pd.read_csv('NLP - Completed intros.csv')"
   ]
  },
  {
   "cell_type": "code",
   "execution_count": null,
   "metadata": {},
   "outputs": [],
   "source": [
    "patrick_df.head()\n",
    "patrick_df.columns"
   ]
  },
  {
   "cell_type": "markdown",
   "metadata": {},
   "source": [
    "Train the \"rating\" model then find the best entries from online tool."
   ]
  },
  {
   "cell_type": "code",
   "execution_count": null,
   "metadata": {},
   "outputs": [],
   "source": [
    "#qaed_df = pd.read_csv('QAed_sentences_20201227.csv')\n",
    "#bad_sents = qaed_df[qaed_df['status'] == 'REJECTED']\n",
    "#accepted = qaed_df[qaed_df['status'] == 'ACCEPTED']\n",
    "\n",
    "ef = pd.ExcelFile('Copy of Team NLP Sentences.xlsx', engine='openpyxl')\n",
    "\n",
    "df = pd.DataFrame()\n",
    "for sheet in ef.sheet_names:\n",
    "    temp = ef.parse(sheet)\n",
    "    #print(sheet)\n",
    "    #print(temp)\n",
    "    df = pd.concat([df, temp])\n",
    "\n",
    "print(df[df['Scoop'].duplicated()])\n",
    "print(~df['Scoop'].duplicated())"
   ]
  },
  {
   "cell_type": "code",
   "execution_count": null,
   "metadata": {},
   "outputs": [],
   "source": [
    "df = df[~df['Scoop'].duplicated()]\n",
    "\n",
    "\n",
    "df['feed'] = df['Scoop'] + '!??!' + df['Article Body']\n",
    "\n",
    "df['feed'] = df['Scoop'] + '!??!' + df['Article Body']\n",
    "\n",
    "bad_sents['feed'] = bad_sents['scoop'] + '!??!' + bad_sents['article_body']\n",
    "accepted['feed'] = accepted['scoop'] + '!??!' + accepted['article_body']\n",
    "\n",
    "bad_sents = bad_sents.sample(n=800)\n",
    "\n",
    "df['is_good'] = 'yes'\n",
    "accepted['is_good'] = 'yes'\n",
    "bad_sents['is_good'] = 'no'\n",
    "\n",
    "input_data = pd.concat([df[['feed', 'is_good']], accepted[['feed', 'is_good']],\n",
    "                        bad_sents[['feed', 'is_good']]])\n",
    "input_data = input_data.sample(frac=1)\n",
    "\n",
    "input_data = input_data[input_data['feed'].apply(type) != float]"
   ]
  },
  {
   "cell_type": "code",
   "execution_count": null,
   "metadata": {},
   "outputs": [],
   "source": [
    "ef = pd.ExcelFile('Copy of Team NLP Sentences.xlsx', engine='openpyxl')\n",
    "\n",
    "df = pd.DataFrame()\n",
    "for sheet in ef.sheet_names:\n",
    "    temp = ef.parse(sheet)\n",
    "    df = pd.concat([df, temp])"
   ]
  },
  {
   "cell_type": "code",
   "execution_count": null,
   "metadata": {},
   "outputs": [],
   "source": [
    "# df.head()"
   ]
  },
  {
   "cell_type": "code",
   "execution_count": null,
   "metadata": {},
   "outputs": [],
   "source": [
    "patrick_df['is_good'] = 'yes'"
   ]
  },
  {
   "cell_type": "code",
   "execution_count": null,
   "metadata": {},
   "outputs": [],
   "source": [
    "patrick_df_1 = pd.read_csv('Prediction - Paddy list.csv')"
   ]
  },
  {
   "cell_type": "code",
   "execution_count": null,
   "metadata": {},
   "outputs": [],
   "source": [
    "patrick_df_1[~patrick_df_1['scoop'].isna()].shape"
   ]
  },
  {
   "cell_type": "code",
   "execution_count": null,
   "metadata": {},
   "outputs": [],
   "source": [
    "patrick_df_1[~patrick_df_1['scoop'].isna()].head()"
   ]
  },
  {
   "cell_type": "code",
   "execution_count": null,
   "metadata": {},
   "outputs": [],
   "source": [
    "patrick_df_2 = pd.read_csv('Predictions Final.csv')"
   ]
  },
  {
   "cell_type": "code",
   "execution_count": null,
   "metadata": {},
   "outputs": [],
   "source": [
    "patrick_df_2.head()"
   ]
  },
  {
   "cell_type": "code",
   "execution_count": null,
   "metadata": {},
   "outputs": [],
   "source": [
    "patrick_df_2['Yes/No'] = patrick_df_2['Yes/No'].replace('Yes', 'yes')\n",
    "patrick_df_2['Yes/No'] = patrick_df_2['Yes/No'].replace('No', 'no')\n",
    "patrick_df_2['Yes/No'] = patrick_df_2['Yes/No'].replace(' Yes', 'yes')\n",
    "patrick_df_2['Yes/No'] = patrick_df_2['Yes/No'].replace(' No', 'no')\n",
    "patrick_df_2['is_good'] = patrick_df_2['Yes/No']\n",
    "#patrick_df_2['scoop'] = patrick_df_2['sentence']\n",
    "patrick_df_2['is_good'].value_counts()"
   ]
  },
  {
   "cell_type": "code",
   "execution_count": null,
   "metadata": {},
   "outputs": [],
   "source": [
    "patrick_df_2['scoop'] = patrick_df_2['Corrected Sentence']\n",
    "patrick_df_2.loc[patrick_df_2['is_good']=='yes']['scoop'] = patrick_df_2.loc[patrick_df_2['is_good']=='yes']['Sentence']"
   ]
  },
  {
   "cell_type": "code",
   "execution_count": null,
   "metadata": {},
   "outputs": [],
   "source": [
    "input_df1 = pd.read_csv('tenG_training_data.csv')"
   ]
  },
  {
   "cell_type": "code",
   "execution_count": null,
   "metadata": {},
   "outputs": [],
   "source": [
    "input_df1[['article_body', 'scoop']].head()"
   ]
  },
  {
   "cell_type": "markdown",
   "metadata": {},
   "source": [
    "match scoops to feed"
   ]
  },
  {
   "cell_type": "code",
   "execution_count": null,
   "metadata": {},
   "outputs": [],
   "source": [
    "def match(scoop, feed):\n",
    "    command = 'echo \\'{}\\' > {}'.format(scoop, './tmp.txt')\n",
    "    res = find_org(['main.py', '-f', '{}'.format('samples.txt')])\n",
    "    for _, entry in enumerate(res):\n",
    "        #print(entry[0], entry[1])\n",
    "        if entry[0].lower() in feed.lower():\n",
    "            return True\n",
    "    return False\n",
    "\n",
    "\n",
    "def check_scoop(patrick_df):    \n",
    "    matched_scoops = {}    \n",
    "    for scoop in patrick_df['scoop'].values:\n",
    "        current_match = False\n",
    "        for feed in df['Article Body'].values:\n",
    "            if match(scoop, feed):\n",
    "                matched_scoops[scoop] = feed\n",
    "                current_match = True\n",
    "                break\n",
    "        '''\n",
    "        if not current_match:\n",
    "            for feed in patrick_df_1['feed'].values:\n",
    "                if match(scoop, feed):\n",
    "                    matched_scoops[scoop] = feed\n",
    "                    current_match = True\n",
    "                    break\n",
    "        '''\n",
    "        if not current_match:\n",
    "            for feed in input_df1['article_body'].values:\n",
    "                if match(scoop, feed):\n",
    "                    matched_scoops[scoop] = feed\n",
    "                    current_match = True\n",
    "                    break\n",
    "    return matched_scoops\n",
    "\n",
    "check_scoop(patrick_df)\n",
    "check_scoop(patrick_df_2)\n"
   ]
  },
  {
   "cell_type": "code",
   "execution_count": null,
   "metadata": {},
   "outputs": [],
   "source": [
    "df = df[~df['Scoop'].duplicated()]\n",
    "\n",
    "df['feed'] = df['Scoop'] + '!??!' + df['Article Body']\n",
    "\n",
    "df['feed'] = df['Scoop'] + '!??!' + df['Article Body']\n",
    "\n",
    "\n",
    "\n",
    "df['is_good'] = 'yes'\n",
    "\n",
    "\n",
    "input_data = pd.concat([df[['feed', 'is_good']], accepted[['feed', 'is_good']],\n",
    "                        bad_sents[['feed', 'is_good']]])\n",
    "input_data = input_data.sample(frac=1)\n",
    "\n",
    "input_data = input_data[input_data['feed'].apply(type) != float]"
   ]
  },
  {
   "cell_type": "code",
   "execution_count": null,
   "metadata": {},
   "outputs": [],
   "source": [
    "task = HF_TASKS_ALL.SequenceClassification\n",
    "\n",
    "#pretrained_model_name = \"facebook/bart-large-mnli\"\n",
    "#pretrained_model_name = \"bert-base-uncased\"\n",
    "pretrained_model_name = 'albert-xlarge-v2'\n",
    "\n",
    "hf_arch, hf_config, hf_tokenizer, hf_model = BLURR_MODEL_HELPER.get_hf_objects(pretrained_model_name, \n",
    "                                                                               model_cls=AlbertForSequenceClassification)"
   ]
  },
  {
   "cell_type": "code",
   "execution_count": null,
   "metadata": {},
   "outputs": [],
   "source": [
    "blocks = (HF_TextBlock(hf_arch=hf_arch, hf_tokenizer=hf_tokenizer, hf_config=hf_config, hf_model=hf_model), CategoryBlock)\n",
    "\n",
    "dblock = DataBlock(blocks=blocks, \n",
    "                   get_x=ColReader('feed'), get_y=ColReader('is_good'), \n",
    "                   splitter=RandomSplitter())\n",
    "\n",
    "dls = dblock.dataloaders(input_data, bs=4)"
   ]
  },
  {
   "cell_type": "code",
   "execution_count": null,
   "metadata": {},
   "outputs": [],
   "source": [
    "dls.show_batch(dataloaders=dls, hf_tokenizer=hf_tokenizer, max_n=2)"
   ]
  },
  {
   "cell_type": "code",
   "execution_count": null,
   "metadata": {},
   "outputs": [],
   "source": [
    "model = HF_BaseModelWrapper(hf_model)\n",
    "\n",
    "learn = Learner(dls, \n",
    "                model,\n",
    "                opt_func=partial(Adam, decouple_wd=True),\n",
    "                loss_func=CrossEntropyLossFlat(),\n",
    "                metrics=[accuracy],\n",
    "                cbs=[HF_BaseModelCallback],\n",
    "                splitter=hf_splitter)\n",
    "\n",
    "learn.create_opt() \n",
    "learn.freeze()\n"
   ]
  },
  {
   "cell_type": "code",
   "execution_count": null,
   "metadata": {},
   "outputs": [],
   "source": [
    "learn.lr_find(suggestions=False)"
   ]
  },
  {
   "cell_type": "code",
   "execution_count": null,
   "metadata": {},
   "outputs": [],
   "source": [
    "learn.fit_one_cycle(1, lr_max=0.0002) "
   ]
  },
  {
   "cell_type": "code",
   "execution_count": null,
   "metadata": {},
   "outputs": [],
   "source": [
    "learn.show_results(learner=learn, max_n=50)"
   ]
  },
  {
   "cell_type": "code",
   "execution_count": null,
   "metadata": {},
   "outputs": [],
   "source": [
    "learn.export(fname='scoop_judge.pkl')"
   ]
  },
  {
   "cell_type": "code",
   "execution_count": null,
   "metadata": {},
   "outputs": [],
   "source": [
    "!pip3 install ohmeow-blurr==0.0.22"
   ]
  },
  {
   "cell_type": "code",
   "execution_count": 6,
   "metadata": {},
   "outputs": [
    {
     "name": "stdout",
     "output_type": "stream",
     "text": [
      "Google              \tORGANIZATION\n",
      "IBM                 \tORGANIZATION\n",
      "[['Google', 'ORGANIZATION'], ['IBM', 'ORGANIZATION']]\n",
      "yes\n"
     ]
    }
   ],
   "source": [
    "from main import find_org\n",
    "#command = 'echo \\'{}\\' > {}'.format('a', 'b')\n",
    "res = find_org(['main.py', '-f', '{}'.format('samples.txt')])\n",
    "test = 'Google need vpn to access.'\n",
    "print(res)\n",
    "for _, entry in enumerate(res):\n",
    "    #print(entry[0], entry[1])\n",
    "    if entry[0] in test:\n",
    "        print(\"yes\")\n"
   ]
  },
  {
   "cell_type": "code",
   "execution_count": null,
   "metadata": {},
   "outputs": [],
   "source": []
  }
 ],
 "metadata": {
  "kernelspec": {
   "display_name": "Python 3",
   "language": "python",
   "name": "python3"
  },
  "language_info": {
   "codemirror_mode": {
    "name": "ipython",
    "version": 3
   },
   "file_extension": ".py",
   "mimetype": "text/x-python",
   "name": "python",
   "nbconvert_exporter": "python",
   "pygments_lexer": "ipython3",
   "version": "3.8.8"
  }
 },
 "nbformat": 4,
 "nbformat_minor": 4
}
